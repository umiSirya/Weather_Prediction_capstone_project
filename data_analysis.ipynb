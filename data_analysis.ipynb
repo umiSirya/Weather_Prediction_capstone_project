{
  "nbformat": 4,
  "nbformat_minor": 0,
  "metadata": {
    "colab": {
      "provenance": [],
      "authorship_tag": "ABX9TyNb1OkvChtq4/S228b6mt1u",
      "include_colab_link": true
    },
    "kernelspec": {
      "name": "python3",
      "display_name": "Python 3"
    },
    "language_info": {
      "name": "python"
    }
  },
  "cells": [
    {
      "cell_type": "markdown",
      "metadata": {
        "id": "view-in-github",
        "colab_type": "text"
      },
      "source": [
        "<a href=\"https://colab.research.google.com/github/umiSirya/Weather_Prediction_capstone_project/blob/main/data_analysis.ipynb\" target=\"_parent\"><img src=\"https://colab.research.google.com/assets/colab-badge.svg\" alt=\"Open In Colab\"/></a>"
      ]
    },
    {
      "cell_type": "markdown",
      "source": [
        "# **1. Import the Necessary Libraries**"
      ],
      "metadata": {
        "id": "H4w9AbeCBVzh"
      }
    },
    {
      "cell_type": "code",
      "execution_count": 4,
      "metadata": {
        "id": "PYiwMQvwBGaQ"
      },
      "outputs": [],
      "source": [
        "import pandas as pd\n",
        "import numpy as np\n",
        "import matplotlib.pyplot as plt\n",
        "import seaborn as sns"
      ]
    },
    {
      "cell_type": "markdown",
      "source": [
        "# **2. Load and Prepare the Dataset**"
      ],
      "metadata": {
        "id": "viucIM7WBgeI"
      }
    },
    {
      "cell_type": "code",
      "source": [
        "df=pd.read_csv('/content/result.csv')\n",
        "df.head()"
      ],
      "metadata": {
        "colab": {
          "base_uri": "https://localhost:8080/",
          "height": 313
        },
        "id": "tqX9WeS4BizV",
        "outputId": "8fd778c5-f32a-4c7b-a349-412fb2dfa0e3"
      },
      "execution_count": 5,
      "outputs": [
        {
          "output_type": "execute_result",
          "data": {
            "text/plain": [
              "        Y      X  uv_index_hourly_average  \\\n",
              "0  45.803  8.627                 0.294733   \n",
              "1  45.803  8.627                 0.009093   \n",
              "2  45.803  8.627                 0.006105   \n",
              "3  45.803  8.627                 0.189241   \n",
              "4  45.803  8.627                 0.001925   \n",
              "\n",
              "                                                 url   dataset  \\\n",
              "0  https://woudc.org/archive/Archive-NewFormat/Sp...  spectral   \n",
              "1  https://woudc.org/archive/Archive-NewFormat/Sp...  spectral   \n",
              "2  https://woudc.org/archive/Archive-NewFormat/Sp...  spectral   \n",
              "3  https://woudc.org/archive/Archive-NewFormat/Sp...  spectral   \n",
              "4  https://woudc.org/archive/Archive-NewFormat/Sp...  spectral   \n",
              "\n",
              "     instance_datetime  platform_id platform_name country gaw_id  \\\n",
              "0  2004/12/30 00:00:00          301         Ispra     ITA    IPR   \n",
              "1  2004/12/30 00:00:00          301         Ispra     ITA    IPR   \n",
              "2  2004/12/29 00:00:00          301         Ispra     ITA    IPR   \n",
              "3  2004/12/29 00:00:00          301         Ispra     ITA    IPR   \n",
              "4  2004/12/28 00:00:00          301         Ispra     ITA    IPR   \n",
              "\n",
              "  instrument_name instrument_model  instrument_number uv_index_qa  \\\n",
              "0          brewer             MKIV                 66           P   \n",
              "1          brewer             MKIV                 66           P   \n",
              "2          brewer             MKIV                 66           P   \n",
              "3          brewer             MKIV                 66           P   \n",
              "4          brewer             MKIV                 66           P   \n",
              "\n",
              "   instance_hour platform_type  data_payload_id  latest_observation  \\\n",
              "0            NaN           STN          1589193                   0   \n",
              "1            7.0           STN          1589026                   0   \n",
              "2            7.0           STN          1588736                   0   \n",
              "3            NaN           STN          1588915                   0   \n",
              "4            7.0           STN          1588465                   0   \n",
              "\n",
              "   uv_index_daily_max  agency  \n",
              "0            0.294733  JRC_EU  \n",
              "1            0.294733  JRC_EU  \n",
              "2            0.189241  JRC_EU  \n",
              "3            0.189241  JRC_EU  \n",
              "4            0.141356  JRC_EU  "
            ],
            "text/html": [
              "\n",
              "  <div id=\"df-c38df147-79b4-46b6-975e-66c8dc8ab6b8\" class=\"colab-df-container\">\n",
              "    <div>\n",
              "<style scoped>\n",
              "    .dataframe tbody tr th:only-of-type {\n",
              "        vertical-align: middle;\n",
              "    }\n",
              "\n",
              "    .dataframe tbody tr th {\n",
              "        vertical-align: top;\n",
              "    }\n",
              "\n",
              "    .dataframe thead th {\n",
              "        text-align: right;\n",
              "    }\n",
              "</style>\n",
              "<table border=\"1\" class=\"dataframe\">\n",
              "  <thead>\n",
              "    <tr style=\"text-align: right;\">\n",
              "      <th></th>\n",
              "      <th>Y</th>\n",
              "      <th>X</th>\n",
              "      <th>uv_index_hourly_average</th>\n",
              "      <th>url</th>\n",
              "      <th>dataset</th>\n",
              "      <th>instance_datetime</th>\n",
              "      <th>platform_id</th>\n",
              "      <th>platform_name</th>\n",
              "      <th>country</th>\n",
              "      <th>gaw_id</th>\n",
              "      <th>instrument_name</th>\n",
              "      <th>instrument_model</th>\n",
              "      <th>instrument_number</th>\n",
              "      <th>uv_index_qa</th>\n",
              "      <th>instance_hour</th>\n",
              "      <th>platform_type</th>\n",
              "      <th>data_payload_id</th>\n",
              "      <th>latest_observation</th>\n",
              "      <th>uv_index_daily_max</th>\n",
              "      <th>agency</th>\n",
              "    </tr>\n",
              "  </thead>\n",
              "  <tbody>\n",
              "    <tr>\n",
              "      <th>0</th>\n",
              "      <td>45.803</td>\n",
              "      <td>8.627</td>\n",
              "      <td>0.294733</td>\n",
              "      <td>https://woudc.org/archive/Archive-NewFormat/Sp...</td>\n",
              "      <td>spectral</td>\n",
              "      <td>2004/12/30 00:00:00</td>\n",
              "      <td>301</td>\n",
              "      <td>Ispra</td>\n",
              "      <td>ITA</td>\n",
              "      <td>IPR</td>\n",
              "      <td>brewer</td>\n",
              "      <td>MKIV</td>\n",
              "      <td>66</td>\n",
              "      <td>P</td>\n",
              "      <td>NaN</td>\n",
              "      <td>STN</td>\n",
              "      <td>1589193</td>\n",
              "      <td>0</td>\n",
              "      <td>0.294733</td>\n",
              "      <td>JRC_EU</td>\n",
              "    </tr>\n",
              "    <tr>\n",
              "      <th>1</th>\n",
              "      <td>45.803</td>\n",
              "      <td>8.627</td>\n",
              "      <td>0.009093</td>\n",
              "      <td>https://woudc.org/archive/Archive-NewFormat/Sp...</td>\n",
              "      <td>spectral</td>\n",
              "      <td>2004/12/30 00:00:00</td>\n",
              "      <td>301</td>\n",
              "      <td>Ispra</td>\n",
              "      <td>ITA</td>\n",
              "      <td>IPR</td>\n",
              "      <td>brewer</td>\n",
              "      <td>MKIV</td>\n",
              "      <td>66</td>\n",
              "      <td>P</td>\n",
              "      <td>7.0</td>\n",
              "      <td>STN</td>\n",
              "      <td>1589026</td>\n",
              "      <td>0</td>\n",
              "      <td>0.294733</td>\n",
              "      <td>JRC_EU</td>\n",
              "    </tr>\n",
              "    <tr>\n",
              "      <th>2</th>\n",
              "      <td>45.803</td>\n",
              "      <td>8.627</td>\n",
              "      <td>0.006105</td>\n",
              "      <td>https://woudc.org/archive/Archive-NewFormat/Sp...</td>\n",
              "      <td>spectral</td>\n",
              "      <td>2004/12/29 00:00:00</td>\n",
              "      <td>301</td>\n",
              "      <td>Ispra</td>\n",
              "      <td>ITA</td>\n",
              "      <td>IPR</td>\n",
              "      <td>brewer</td>\n",
              "      <td>MKIV</td>\n",
              "      <td>66</td>\n",
              "      <td>P</td>\n",
              "      <td>7.0</td>\n",
              "      <td>STN</td>\n",
              "      <td>1588736</td>\n",
              "      <td>0</td>\n",
              "      <td>0.189241</td>\n",
              "      <td>JRC_EU</td>\n",
              "    </tr>\n",
              "    <tr>\n",
              "      <th>3</th>\n",
              "      <td>45.803</td>\n",
              "      <td>8.627</td>\n",
              "      <td>0.189241</td>\n",
              "      <td>https://woudc.org/archive/Archive-NewFormat/Sp...</td>\n",
              "      <td>spectral</td>\n",
              "      <td>2004/12/29 00:00:00</td>\n",
              "      <td>301</td>\n",
              "      <td>Ispra</td>\n",
              "      <td>ITA</td>\n",
              "      <td>IPR</td>\n",
              "      <td>brewer</td>\n",
              "      <td>MKIV</td>\n",
              "      <td>66</td>\n",
              "      <td>P</td>\n",
              "      <td>NaN</td>\n",
              "      <td>STN</td>\n",
              "      <td>1588915</td>\n",
              "      <td>0</td>\n",
              "      <td>0.189241</td>\n",
              "      <td>JRC_EU</td>\n",
              "    </tr>\n",
              "    <tr>\n",
              "      <th>4</th>\n",
              "      <td>45.803</td>\n",
              "      <td>8.627</td>\n",
              "      <td>0.001925</td>\n",
              "      <td>https://woudc.org/archive/Archive-NewFormat/Sp...</td>\n",
              "      <td>spectral</td>\n",
              "      <td>2004/12/28 00:00:00</td>\n",
              "      <td>301</td>\n",
              "      <td>Ispra</td>\n",
              "      <td>ITA</td>\n",
              "      <td>IPR</td>\n",
              "      <td>brewer</td>\n",
              "      <td>MKIV</td>\n",
              "      <td>66</td>\n",
              "      <td>P</td>\n",
              "      <td>7.0</td>\n",
              "      <td>STN</td>\n",
              "      <td>1588465</td>\n",
              "      <td>0</td>\n",
              "      <td>0.141356</td>\n",
              "      <td>JRC_EU</td>\n",
              "    </tr>\n",
              "  </tbody>\n",
              "</table>\n",
              "</div>\n",
              "    <div class=\"colab-df-buttons\">\n",
              "\n",
              "  <div class=\"colab-df-container\">\n",
              "    <button class=\"colab-df-convert\" onclick=\"convertToInteractive('df-c38df147-79b4-46b6-975e-66c8dc8ab6b8')\"\n",
              "            title=\"Convert this dataframe to an interactive table.\"\n",
              "            style=\"display:none;\">\n",
              "\n",
              "  <svg xmlns=\"http://www.w3.org/2000/svg\" height=\"24px\" viewBox=\"0 -960 960 960\">\n",
              "    <path d=\"M120-120v-720h720v720H120Zm60-500h600v-160H180v160Zm220 220h160v-160H400v160Zm0 220h160v-160H400v160ZM180-400h160v-160H180v160Zm440 0h160v-160H620v160ZM180-180h160v-160H180v160Zm440 0h160v-160H620v160Z\"/>\n",
              "  </svg>\n",
              "    </button>\n",
              "\n",
              "  <style>\n",
              "    .colab-df-container {\n",
              "      display:flex;\n",
              "      gap: 12px;\n",
              "    }\n",
              "\n",
              "    .colab-df-convert {\n",
              "      background-color: #E8F0FE;\n",
              "      border: none;\n",
              "      border-radius: 50%;\n",
              "      cursor: pointer;\n",
              "      display: none;\n",
              "      fill: #1967D2;\n",
              "      height: 32px;\n",
              "      padding: 0 0 0 0;\n",
              "      width: 32px;\n",
              "    }\n",
              "\n",
              "    .colab-df-convert:hover {\n",
              "      background-color: #E2EBFA;\n",
              "      box-shadow: 0px 1px 2px rgba(60, 64, 67, 0.3), 0px 1px 3px 1px rgba(60, 64, 67, 0.15);\n",
              "      fill: #174EA6;\n",
              "    }\n",
              "\n",
              "    .colab-df-buttons div {\n",
              "      margin-bottom: 4px;\n",
              "    }\n",
              "\n",
              "    [theme=dark] .colab-df-convert {\n",
              "      background-color: #3B4455;\n",
              "      fill: #D2E3FC;\n",
              "    }\n",
              "\n",
              "    [theme=dark] .colab-df-convert:hover {\n",
              "      background-color: #434B5C;\n",
              "      box-shadow: 0px 1px 3px 1px rgba(0, 0, 0, 0.15);\n",
              "      filter: drop-shadow(0px 1px 2px rgba(0, 0, 0, 0.3));\n",
              "      fill: #FFFFFF;\n",
              "    }\n",
              "  </style>\n",
              "\n",
              "    <script>\n",
              "      const buttonEl =\n",
              "        document.querySelector('#df-c38df147-79b4-46b6-975e-66c8dc8ab6b8 button.colab-df-convert');\n",
              "      buttonEl.style.display =\n",
              "        google.colab.kernel.accessAllowed ? 'block' : 'none';\n",
              "\n",
              "      async function convertToInteractive(key) {\n",
              "        const element = document.querySelector('#df-c38df147-79b4-46b6-975e-66c8dc8ab6b8');\n",
              "        const dataTable =\n",
              "          await google.colab.kernel.invokeFunction('convertToInteractive',\n",
              "                                                    [key], {});\n",
              "        if (!dataTable) return;\n",
              "\n",
              "        const docLinkHtml = 'Like what you see? Visit the ' +\n",
              "          '<a target=\"_blank\" href=https://colab.research.google.com/notebooks/data_table.ipynb>data table notebook</a>'\n",
              "          + ' to learn more about interactive tables.';\n",
              "        element.innerHTML = '';\n",
              "        dataTable['output_type'] = 'display_data';\n",
              "        await google.colab.output.renderOutput(dataTable, element);\n",
              "        const docLink = document.createElement('div');\n",
              "        docLink.innerHTML = docLinkHtml;\n",
              "        element.appendChild(docLink);\n",
              "      }\n",
              "    </script>\n",
              "  </div>\n",
              "\n",
              "\n",
              "<div id=\"df-a9026f3c-be39-4bc6-bf87-ede12f23353b\">\n",
              "  <button class=\"colab-df-quickchart\" onclick=\"quickchart('df-a9026f3c-be39-4bc6-bf87-ede12f23353b')\"\n",
              "            title=\"Suggest charts\"\n",
              "            style=\"display:none;\">\n",
              "\n",
              "<svg xmlns=\"http://www.w3.org/2000/svg\" height=\"24px\"viewBox=\"0 0 24 24\"\n",
              "     width=\"24px\">\n",
              "    <g>\n",
              "        <path d=\"M19 3H5c-1.1 0-2 .9-2 2v14c0 1.1.9 2 2 2h14c1.1 0 2-.9 2-2V5c0-1.1-.9-2-2-2zM9 17H7v-7h2v7zm4 0h-2V7h2v10zm4 0h-2v-4h2v4z\"/>\n",
              "    </g>\n",
              "</svg>\n",
              "  </button>\n",
              "\n",
              "<style>\n",
              "  .colab-df-quickchart {\n",
              "      --bg-color: #E8F0FE;\n",
              "      --fill-color: #1967D2;\n",
              "      --hover-bg-color: #E2EBFA;\n",
              "      --hover-fill-color: #174EA6;\n",
              "      --disabled-fill-color: #AAA;\n",
              "      --disabled-bg-color: #DDD;\n",
              "  }\n",
              "\n",
              "  [theme=dark] .colab-df-quickchart {\n",
              "      --bg-color: #3B4455;\n",
              "      --fill-color: #D2E3FC;\n",
              "      --hover-bg-color: #434B5C;\n",
              "      --hover-fill-color: #FFFFFF;\n",
              "      --disabled-bg-color: #3B4455;\n",
              "      --disabled-fill-color: #666;\n",
              "  }\n",
              "\n",
              "  .colab-df-quickchart {\n",
              "    background-color: var(--bg-color);\n",
              "    border: none;\n",
              "    border-radius: 50%;\n",
              "    cursor: pointer;\n",
              "    display: none;\n",
              "    fill: var(--fill-color);\n",
              "    height: 32px;\n",
              "    padding: 0;\n",
              "    width: 32px;\n",
              "  }\n",
              "\n",
              "  .colab-df-quickchart:hover {\n",
              "    background-color: var(--hover-bg-color);\n",
              "    box-shadow: 0 1px 2px rgba(60, 64, 67, 0.3), 0 1px 3px 1px rgba(60, 64, 67, 0.15);\n",
              "    fill: var(--button-hover-fill-color);\n",
              "  }\n",
              "\n",
              "  .colab-df-quickchart-complete:disabled,\n",
              "  .colab-df-quickchart-complete:disabled:hover {\n",
              "    background-color: var(--disabled-bg-color);\n",
              "    fill: var(--disabled-fill-color);\n",
              "    box-shadow: none;\n",
              "  }\n",
              "\n",
              "  .colab-df-spinner {\n",
              "    border: 2px solid var(--fill-color);\n",
              "    border-color: transparent;\n",
              "    border-bottom-color: var(--fill-color);\n",
              "    animation:\n",
              "      spin 1s steps(1) infinite;\n",
              "  }\n",
              "\n",
              "  @keyframes spin {\n",
              "    0% {\n",
              "      border-color: transparent;\n",
              "      border-bottom-color: var(--fill-color);\n",
              "      border-left-color: var(--fill-color);\n",
              "    }\n",
              "    20% {\n",
              "      border-color: transparent;\n",
              "      border-left-color: var(--fill-color);\n",
              "      border-top-color: var(--fill-color);\n",
              "    }\n",
              "    30% {\n",
              "      border-color: transparent;\n",
              "      border-left-color: var(--fill-color);\n",
              "      border-top-color: var(--fill-color);\n",
              "      border-right-color: var(--fill-color);\n",
              "    }\n",
              "    40% {\n",
              "      border-color: transparent;\n",
              "      border-right-color: var(--fill-color);\n",
              "      border-top-color: var(--fill-color);\n",
              "    }\n",
              "    60% {\n",
              "      border-color: transparent;\n",
              "      border-right-color: var(--fill-color);\n",
              "    }\n",
              "    80% {\n",
              "      border-color: transparent;\n",
              "      border-right-color: var(--fill-color);\n",
              "      border-bottom-color: var(--fill-color);\n",
              "    }\n",
              "    90% {\n",
              "      border-color: transparent;\n",
              "      border-bottom-color: var(--fill-color);\n",
              "    }\n",
              "  }\n",
              "</style>\n",
              "\n",
              "  <script>\n",
              "    async function quickchart(key) {\n",
              "      const quickchartButtonEl =\n",
              "        document.querySelector('#' + key + ' button');\n",
              "      quickchartButtonEl.disabled = true;  // To prevent multiple clicks.\n",
              "      quickchartButtonEl.classList.add('colab-df-spinner');\n",
              "      try {\n",
              "        const charts = await google.colab.kernel.invokeFunction(\n",
              "            'suggestCharts', [key], {});\n",
              "      } catch (error) {\n",
              "        console.error('Error during call to suggestCharts:', error);\n",
              "      }\n",
              "      quickchartButtonEl.classList.remove('colab-df-spinner');\n",
              "      quickchartButtonEl.classList.add('colab-df-quickchart-complete');\n",
              "    }\n",
              "    (() => {\n",
              "      let quickchartButtonEl =\n",
              "        document.querySelector('#df-a9026f3c-be39-4bc6-bf87-ede12f23353b button');\n",
              "      quickchartButtonEl.style.display =\n",
              "        google.colab.kernel.accessAllowed ? 'block' : 'none';\n",
              "    })();\n",
              "  </script>\n",
              "</div>\n",
              "\n",
              "    </div>\n",
              "  </div>\n"
            ],
            "application/vnd.google.colaboratory.intrinsic+json": {
              "type": "dataframe",
              "variable_name": "df",
              "summary": "{\n  \"name\": \"df\",\n  \"rows\": 3562,\n  \"fields\": [\n    {\n      \"column\": \"Y\",\n      \"properties\": {\n        \"dtype\": \"number\",\n        \"std\": 2.757292884714557e-12,\n        \"min\": 45.803,\n        \"max\": 45.803,\n        \"num_unique_values\": 1,\n        \"samples\": [\n          45.803\n        ],\n        \"semantic_type\": \"\",\n        \"description\": \"\"\n      }\n    },\n    {\n      \"column\": \"X\",\n      \"properties\": {\n        \"dtype\": \"number\",\n        \"std\": 3.464382168294707e-13,\n        \"min\": 8.627,\n        \"max\": 8.627,\n        \"num_unique_values\": 1,\n        \"samples\": [\n          8.627\n        ],\n        \"semantic_type\": \"\",\n        \"description\": \"\"\n      }\n    },\n    {\n      \"column\": \"uv_index_hourly_average\",\n      \"properties\": {\n        \"dtype\": \"number\",\n        \"std\": 0.6116301540987881,\n        \"min\": 1.48456474562408e-05,\n        \"max\": 3.43789744377136,\n        \"num_unique_values\": 3562,\n        \"samples\": [\n          0.0014635799452662\n        ],\n        \"semantic_type\": \"\",\n        \"description\": \"\"\n      }\n    },\n    {\n      \"column\": \"url\",\n      \"properties\": {\n        \"dtype\": \"string\",\n        \"num_unique_values\": 1786,\n        \"samples\": [\n          \"https://woudc.org/archive/Archive-NewFormat/Spectral_1.0_1/stn301/brewer/2003/20030707.brewer.mkiv.066.jrc_eu.csv\"\n        ],\n        \"semantic_type\": \"\",\n        \"description\": \"\"\n      }\n    },\n    {\n      \"column\": \"dataset\",\n      \"properties\": {\n        \"dtype\": \"category\",\n        \"num_unique_values\": 1,\n        \"samples\": [\n          \"spectral\"\n        ],\n        \"semantic_type\": \"\",\n        \"description\": \"\"\n      }\n    },\n    {\n      \"column\": \"instance_datetime\",\n      \"properties\": {\n        \"dtype\": \"object\",\n        \"num_unique_values\": 1786,\n        \"samples\": [\n          \"2003/07/07 00:00:00\"\n        ],\n        \"semantic_type\": \"\",\n        \"description\": \"\"\n      }\n    },\n    {\n      \"column\": \"platform_id\",\n      \"properties\": {\n        \"dtype\": \"number\",\n        \"std\": 0,\n        \"min\": 301,\n        \"max\": 301,\n        \"num_unique_values\": 1,\n        \"samples\": [\n          301\n        ],\n        \"semantic_type\": \"\",\n        \"description\": \"\"\n      }\n    },\n    {\n      \"column\": \"platform_name\",\n      \"properties\": {\n        \"dtype\": \"category\",\n        \"num_unique_values\": 1,\n        \"samples\": [\n          \"Ispra\"\n        ],\n        \"semantic_type\": \"\",\n        \"description\": \"\"\n      }\n    },\n    {\n      \"column\": \"country\",\n      \"properties\": {\n        \"dtype\": \"category\",\n        \"num_unique_values\": 1,\n        \"samples\": [\n          \"ITA\"\n        ],\n        \"semantic_type\": \"\",\n        \"description\": \"\"\n      }\n    },\n    {\n      \"column\": \"gaw_id\",\n      \"properties\": {\n        \"dtype\": \"category\",\n        \"num_unique_values\": 1,\n        \"samples\": [\n          \"IPR\"\n        ],\n        \"semantic_type\": \"\",\n        \"description\": \"\"\n      }\n    },\n    {\n      \"column\": \"instrument_name\",\n      \"properties\": {\n        \"dtype\": \"category\",\n        \"num_unique_values\": 1,\n        \"samples\": [\n          \"brewer\"\n        ],\n        \"semantic_type\": \"\",\n        \"description\": \"\"\n      }\n    },\n    {\n      \"column\": \"instrument_model\",\n      \"properties\": {\n        \"dtype\": \"category\",\n        \"num_unique_values\": 1,\n        \"samples\": [\n          \"MKIV\"\n        ],\n        \"semantic_type\": \"\",\n        \"description\": \"\"\n      }\n    },\n    {\n      \"column\": \"instrument_number\",\n      \"properties\": {\n        \"dtype\": \"number\",\n        \"std\": 0,\n        \"min\": 66,\n        \"max\": 66,\n        \"num_unique_values\": 1,\n        \"samples\": [\n          66\n        ],\n        \"semantic_type\": \"\",\n        \"description\": \"\"\n      }\n    },\n    {\n      \"column\": \"uv_index_qa\",\n      \"properties\": {\n        \"dtype\": \"category\",\n        \"num_unique_values\": 1,\n        \"samples\": [\n          \"P\"\n        ],\n        \"semantic_type\": \"\",\n        \"description\": \"\"\n      }\n    },\n    {\n      \"column\": \"instance_hour\",\n      \"properties\": {\n        \"dtype\": \"number\",\n        \"std\": 1.5805943660350739,\n        \"min\": 3.0,\n        \"max\": 17.0,\n        \"num_unique_values\": 14,\n        \"samples\": [\n          9.0\n        ],\n        \"semantic_type\": \"\",\n        \"description\": \"\"\n      }\n    },\n    {\n      \"column\": \"platform_type\",\n      \"properties\": {\n        \"dtype\": \"category\",\n        \"num_unique_values\": 1,\n        \"samples\": [\n          \"STN\"\n        ],\n        \"semantic_type\": \"\",\n        \"description\": \"\"\n      }\n    },\n    {\n      \"column\": \"data_payload_id\",\n      \"properties\": {\n        \"dtype\": \"number\",\n        \"std\": 259829,\n        \"min\": 4699,\n        \"max\": 1589193,\n        \"num_unique_values\": 3562,\n        \"samples\": [\n          952829\n        ],\n        \"semantic_type\": \"\",\n        \"description\": \"\"\n      }\n    },\n    {\n      \"column\": \"latest_observation\",\n      \"properties\": {\n        \"dtype\": \"number\",\n        \"std\": 0,\n        \"min\": 0,\n        \"max\": 0,\n        \"num_unique_values\": 1,\n        \"samples\": [\n          0\n        ],\n        \"semantic_type\": \"\",\n        \"description\": \"\"\n      }\n    },\n    {\n      \"column\": \"uv_index_daily_max\",\n      \"properties\": {\n        \"dtype\": \"number\",\n        \"std\": 0.6135831821638108,\n        \"min\": 0.000843366,\n        \"max\": 3.4379,\n        \"num_unique_values\": 1784,\n        \"samples\": [\n          0.401541\n        ],\n        \"semantic_type\": \"\",\n        \"description\": \"\"\n      }\n    },\n    {\n      \"column\": \"agency\",\n      \"properties\": {\n        \"dtype\": \"category\",\n        \"num_unique_values\": 1,\n        \"samples\": [\n          \"JRC_EU\"\n        ],\n        \"semantic_type\": \"\",\n        \"description\": \"\"\n      }\n    }\n  ]\n}"
            }
          },
          "metadata": {},
          "execution_count": 5
        }
      ]
    },
    {
      "cell_type": "code",
      "source": [
        "df.info()"
      ],
      "metadata": {
        "colab": {
          "base_uri": "https://localhost:8080/"
        },
        "id": "XEc7wWZWkaCV",
        "outputId": "10976972-2d6e-4dea-e38a-ac347d03fdb6"
      },
      "execution_count": 6,
      "outputs": [
        {
          "output_type": "stream",
          "name": "stdout",
          "text": [
            "<class 'pandas.core.frame.DataFrame'>\n",
            "RangeIndex: 3562 entries, 0 to 3561\n",
            "Data columns (total 20 columns):\n",
            " #   Column                   Non-Null Count  Dtype  \n",
            "---  ------                   --------------  -----  \n",
            " 0   Y                        3562 non-null   float64\n",
            " 1   X                        3562 non-null   float64\n",
            " 2   uv_index_hourly_average  3562 non-null   float64\n",
            " 3   url                      3562 non-null   object \n",
            " 4   dataset                  3562 non-null   object \n",
            " 5   instance_datetime        3562 non-null   object \n",
            " 6   platform_id              3562 non-null   int64  \n",
            " 7   platform_name            3562 non-null   object \n",
            " 8   country                  3562 non-null   object \n",
            " 9   gaw_id                   3562 non-null   object \n",
            " 10  instrument_name          3562 non-null   object \n",
            " 11  instrument_model         3562 non-null   object \n",
            " 12  instrument_number        3562 non-null   int64  \n",
            " 13  uv_index_qa              3562 non-null   object \n",
            " 14  instance_hour            1786 non-null   float64\n",
            " 15  platform_type            3562 non-null   object \n",
            " 16  data_payload_id          3562 non-null   int64  \n",
            " 17  latest_observation       3562 non-null   int64  \n",
            " 18  uv_index_daily_max       3562 non-null   float64\n",
            " 19  agency                   3562 non-null   object \n",
            "dtypes: float64(5), int64(4), object(11)\n",
            "memory usage: 556.7+ KB\n"
          ]
        }
      ]
    },
    {
      "cell_type": "markdown",
      "source": [
        "# **3. Data Cleaning**"
      ],
      "metadata": {
        "id": "tvVuTud0B0be"
      }
    },
    {
      "cell_type": "code",
      "source": [
        "# Convertdate column is in datetime format\n",
        "df['instance_date'] = pd.to_datetime(df['instance_datetime'])\n",
        "\n",
        "# Sort the DataFrame by date in ascending order\n",
        "df = df.sort_values(by='instance_date', ascending=True).reset_index(drop=True)\n",
        "\n",
        "# Choosing relevant columns\n",
        "df = df[['instance_date', 'uv_index_daily_max']]\n",
        "\n",
        "# Keep only the first row for each date\n",
        "df = df.drop_duplicates(subset='instance_date', keep='first').reset_index(drop=True)\n"
      ],
      "metadata": {
        "id": "JAEoTFQvBwCx"
      },
      "execution_count": 7,
      "outputs": []
    },
    {
      "cell_type": "code",
      "source": [
        "df.info()"
      ],
      "metadata": {
        "colab": {
          "base_uri": "https://localhost:8080/"
        },
        "id": "hJ0pLxJwtcwT",
        "outputId": "f05931b4-4869-43c5-ae5a-0a1f68abf8a1"
      },
      "execution_count": 9,
      "outputs": [
        {
          "output_type": "stream",
          "name": "stdout",
          "text": [
            "<class 'pandas.core.frame.DataFrame'>\n",
            "RangeIndex: 1786 entries, 0 to 1785\n",
            "Data columns (total 2 columns):\n",
            " #   Column              Non-Null Count  Dtype         \n",
            "---  ------              --------------  -----         \n",
            " 0   instance_date       1786 non-null   datetime64[ns]\n",
            " 1   uv_index_daily_max  1786 non-null   float64       \n",
            "dtypes: datetime64[ns](1), float64(1)\n",
            "memory usage: 28.0 KB\n"
          ]
        }
      ]
    },
    {
      "cell_type": "code",
      "source": [
        "#checking for null values\n",
        "df.isnull().sum()"
      ],
      "metadata": {
        "colab": {
          "base_uri": "https://localhost:8080/",
          "height": 146
        },
        "id": "a96MjR-8HWCA",
        "outputId": "7c361cc0-29b3-4c9c-b850-c26c6b8b31a9"
      },
      "execution_count": 8,
      "outputs": [
        {
          "output_type": "execute_result",
          "data": {
            "text/plain": [
              "instance_date         0\n",
              "uv_index_daily_max    0\n",
              "dtype: int64"
            ],
            "text/html": [
              "<div>\n",
              "<style scoped>\n",
              "    .dataframe tbody tr th:only-of-type {\n",
              "        vertical-align: middle;\n",
              "    }\n",
              "\n",
              "    .dataframe tbody tr th {\n",
              "        vertical-align: top;\n",
              "    }\n",
              "\n",
              "    .dataframe thead th {\n",
              "        text-align: right;\n",
              "    }\n",
              "</style>\n",
              "<table border=\"1\" class=\"dataframe\">\n",
              "  <thead>\n",
              "    <tr style=\"text-align: right;\">\n",
              "      <th></th>\n",
              "      <th>0</th>\n",
              "    </tr>\n",
              "  </thead>\n",
              "  <tbody>\n",
              "    <tr>\n",
              "      <th>instance_date</th>\n",
              "      <td>0</td>\n",
              "    </tr>\n",
              "    <tr>\n",
              "      <th>uv_index_daily_max</th>\n",
              "      <td>0</td>\n",
              "    </tr>\n",
              "  </tbody>\n",
              "</table>\n",
              "</div><br><label><b>dtype:</b> int64</label>"
            ]
          },
          "metadata": {},
          "execution_count": 8
        }
      ]
    },
    {
      "cell_type": "code",
      "source": [
        "print(df.head())"
      ],
      "metadata": {
        "colab": {
          "base_uri": "https://localhost:8080/"
        },
        "id": "Rh6t1eiEDLrb",
        "outputId": "b629f9df-5941-49bf-ec6d-d8c55e39cc7d"
      },
      "execution_count": 10,
      "outputs": [
        {
          "output_type": "stream",
          "name": "stdout",
          "text": [
            "  instance_date  uv_index_daily_max\n",
            "0    1999-12-31            0.304709\n",
            "1    2000-01-01            0.316398\n",
            "2    2000-01-02            0.329537\n",
            "3    2000-01-03            0.388613\n",
            "4    2000-01-04            0.384048\n"
          ]
        }
      ]
    },
    {
      "cell_type": "code",
      "source": [
        "print(df.tail())"
      ],
      "metadata": {
        "colab": {
          "base_uri": "https://localhost:8080/"
        },
        "id": "_qBAKD4OHv17",
        "outputId": "df1f8094-8159-4be0-8b7c-60763e279c09"
      },
      "execution_count": 11,
      "outputs": [
        {
          "output_type": "stream",
          "name": "stdout",
          "text": [
            "     instance_date  uv_index_daily_max\n",
            "1781    2004-12-26            0.075711\n",
            "1782    2004-12-27            0.246608\n",
            "1783    2004-12-28            0.141356\n",
            "1784    2004-12-29            0.189241\n",
            "1785    2004-12-30            0.294733\n"
          ]
        }
      ]
    },
    {
      "cell_type": "code",
      "source": [
        "df.info()\n",
        "\n"
      ],
      "metadata": {
        "colab": {
          "base_uri": "https://localhost:8080/"
        },
        "id": "GU7Gsm8FDCQj",
        "outputId": "2df09b24-296a-4a1f-b0a3-20977a95131b"
      },
      "execution_count": 12,
      "outputs": [
        {
          "output_type": "stream",
          "name": "stdout",
          "text": [
            "<class 'pandas.core.frame.DataFrame'>\n",
            "RangeIndex: 1786 entries, 0 to 1785\n",
            "Data columns (total 2 columns):\n",
            " #   Column              Non-Null Count  Dtype         \n",
            "---  ------              --------------  -----         \n",
            " 0   instance_date       1786 non-null   datetime64[ns]\n",
            " 1   uv_index_daily_max  1786 non-null   float64       \n",
            "dtypes: datetime64[ns](1), float64(1)\n",
            "memory usage: 28.0 KB\n"
          ]
        }
      ]
    },
    {
      "cell_type": "code",
      "source": [
        "df['uv_index_daily_max'].describe()\n"
      ],
      "metadata": {
        "colab": {
          "base_uri": "https://localhost:8080/",
          "height": 335
        },
        "id": "G2WemWhloTLx",
        "outputId": "f779bc33-db2a-40a6-d3fe-618f791c77d3"
      },
      "execution_count": 13,
      "outputs": [
        {
          "output_type": "execute_result",
          "data": {
            "text/plain": [
              "count    1786.000000\n",
              "mean        0.862763\n",
              "std         0.614323\n",
              "min         0.000843\n",
              "25%         0.316474\n",
              "50%         0.720044\n",
              "75%         1.375860\n",
              "max         3.437900\n",
              "Name: uv_index_daily_max, dtype: float64"
            ],
            "text/html": [
              "<div>\n",
              "<style scoped>\n",
              "    .dataframe tbody tr th:only-of-type {\n",
              "        vertical-align: middle;\n",
              "    }\n",
              "\n",
              "    .dataframe tbody tr th {\n",
              "        vertical-align: top;\n",
              "    }\n",
              "\n",
              "    .dataframe thead th {\n",
              "        text-align: right;\n",
              "    }\n",
              "</style>\n",
              "<table border=\"1\" class=\"dataframe\">\n",
              "  <thead>\n",
              "    <tr style=\"text-align: right;\">\n",
              "      <th></th>\n",
              "      <th>uv_index_daily_max</th>\n",
              "    </tr>\n",
              "  </thead>\n",
              "  <tbody>\n",
              "    <tr>\n",
              "      <th>count</th>\n",
              "      <td>1786.000000</td>\n",
              "    </tr>\n",
              "    <tr>\n",
              "      <th>mean</th>\n",
              "      <td>0.862763</td>\n",
              "    </tr>\n",
              "    <tr>\n",
              "      <th>std</th>\n",
              "      <td>0.614323</td>\n",
              "    </tr>\n",
              "    <tr>\n",
              "      <th>min</th>\n",
              "      <td>0.000843</td>\n",
              "    </tr>\n",
              "    <tr>\n",
              "      <th>25%</th>\n",
              "      <td>0.316474</td>\n",
              "    </tr>\n",
              "    <tr>\n",
              "      <th>50%</th>\n",
              "      <td>0.720044</td>\n",
              "    </tr>\n",
              "    <tr>\n",
              "      <th>75%</th>\n",
              "      <td>1.375860</td>\n",
              "    </tr>\n",
              "    <tr>\n",
              "      <th>max</th>\n",
              "      <td>3.437900</td>\n",
              "    </tr>\n",
              "  </tbody>\n",
              "</table>\n",
              "</div><br><label><b>dtype:</b> float64</label>"
            ]
          },
          "metadata": {},
          "execution_count": 13
        }
      ]
    },
    {
      "cell_type": "code",
      "source": [
        "#Frequency Distribution of UV Index daily max\n",
        "\n",
        "sns.set(style=\"whitegrid\")\n",
        "plt.figure(figsize=(8, 6))\n",
        "\n",
        "sns.histplot(\n",
        "    data=df,\n",
        "    x='uv_index_daily_max',\n",
        "    bins=50,\n",
        "    kde=True,\n",
        "    color=\"#4A90E2\",\n",
        "    edgecolor=\"black\",\n",
        "    linewidth=1.2\n",
        ")\n",
        "\n",
        "\n",
        "plt.title('Distribution of UV Index Daily Max 🌞', fontsize=18, fontweight='bold', color=\"#333333\")\n",
        "plt.xlabel('UV Index Daily Max', fontsize=14, color=\"#555555\")\n",
        "plt.ylabel('Frequency', fontsize=14, color=\"#555555\")\n",
        "plt.xticks(fontsize=12)\n",
        "plt.yticks(fontsize=12)\n",
        "plt.grid(axis='y', linestyle='--', alpha=0.7)\n",
        "plt.tight_layout()\n",
        "plt.show()\n"
      ],
      "metadata": {
        "colab": {
          "base_uri": "https://localhost:8080/",
          "height": 673
        },
        "id": "lEon87a0DVZI",
        "outputId": "c3f7a49d-7b97-40c3-e947-c48c31c34228"
      },
      "execution_count": 14,
      "outputs": [
        {
          "output_type": "stream",
          "name": "stderr",
          "text": [
            "<ipython-input-14-597bd890e5d9>:23: UserWarning: Glyph 127774 (\\N{SUN WITH FACE}) missing from font(s) DejaVu Sans.\n",
            "  plt.tight_layout()\n",
            "/usr/local/lib/python3.11/dist-packages/IPython/core/pylabtools.py:151: UserWarning: Glyph 127774 (\\N{SUN WITH FACE}) missing from font(s) DejaVu Sans.\n",
            "  fig.canvas.print_figure(bytes_io, **kw)\n"
          ]
        },
        {
          "output_type": "display_data",
          "data": {
            "text/plain": [
              "<Figure size 800x600 with 1 Axes>"
            ],
            "image/png": "[encoded data removed]"
          },
          "metadata": {}
        }
      ]
    },
    {
      "cell_type": "code",
      "source": [
        "# saving cleaned data into a csv file\n",
        "df.to_csv('cleaned_uv_data.csv', index=False)\n"
      ],
      "metadata": {
        "id": "8iIBohh5H3tz"
      },
      "execution_count": 15,
      "outputs": []
    }
  ]
}